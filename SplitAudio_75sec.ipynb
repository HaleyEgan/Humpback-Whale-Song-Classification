{
 "cells": [
  {
   "cell_type": "code",
   "execution_count": 7,
   "id": "9b4eab98-40d2-4acc-bbc7-d319ba897406",
   "metadata": {},
   "outputs": [],
   "source": [
    "from pydub import AudioSegment\n",
    "import os"
   ]
  },
  {
   "cell_type": "code",
   "execution_count": 34,
   "id": "ec016782-e115-46ef-870c-034f97dcee89",
   "metadata": {},
   "outputs": [],
   "source": [
    "def split_wav_file(wav_file):\n",
    "    # Load the audio file using pydub\n",
    "    audio = AudioSegment.from_wav(wav_file)\n",
    "\n",
    "    # Get the duration of the audio file in milliseconds\n",
    "    audio_length_ms = len(audio)\n",
    "\n",
    "    # Calculate the number of75-second segments in the audio file\n",
    "    segment_length_ms = 75 * 1000\n",
    "    num_segments = audio_length_ms // segment_length_ms\n",
    "\n",
    "    # Create a directory to save the segmented audio files\n",
    "    output_dir = os.path.join(\"HumpbackAudioSegments_75sec\", \"Bermuda\")\n",
    "    os.makedirs(output_dir, exist_ok=True)\n",
    "\n",
    "    # Split the audio file into consecutive 75-second segments and save each segment with a numbered filename\n",
    "    for i in range(num_segments):\n",
    "        segment_start_ms = i * segment_length_ms\n",
    "        segment_end_ms = segment_start_ms + segment_length_ms\n",
    "        segment = audio[segment_start_ms:segment_end_ms]\n",
    "        \n",
    "         # Check if the segment is 16-bit\n",
    "        if segment.sample_width != 2:\n",
    "            # Convert the segment to 16-bit if necessary\n",
    "            segment = segment.set_sample_width(2)\n",
    "        \n",
    "        output_file = os.path.join(output_dir, os.path.splitext(os.path.basename(wav_file))[0] + \"_\" + str(i+1) + \".wav\")        \n",
    "        segment.export(output_file, format=\"wav\")\n"
   ]
  },
  {
   "cell_type": "code",
   "execution_count": 35,
   "id": "0999c78d-93bc-407f-8d2b-47e1180b52f0",
   "metadata": {},
   "outputs": [],
   "source": [
    "#set directory paths\n",
    "audio_dir = \"HumpbackAudio_FullSongs/Bermuda\"\n",
    "audio_file = \"Bermuda_2009_VRRhKVKs0t0.wav\"\n",
    "audio_path = os.path.join(audio_dir, audio_file)\n",
    "split_wav_file(audio_path)"
   ]
  },
  {
   "cell_type": "code",
   "execution_count": null,
   "id": "0363382c-c8d8-4dc0-bf40-68423340dbf7",
   "metadata": {},
   "outputs": [],
   "source": []
  }
 ],
 "metadata": {
  "kernelspec": {
   "display_name": "Python 3 (ipykernel)",
   "language": "python",
   "name": "python3"
  },
  "language_info": {
   "codemirror_mode": {
    "name": "ipython",
    "version": 3
   },
   "file_extension": ".py",
   "mimetype": "text/x-python",
   "name": "python",
   "nbconvert_exporter": "python",
   "pygments_lexer": "ipython3",
   "version": "3.9.12"
  }
 },
 "nbformat": 4,
 "nbformat_minor": 5
}
